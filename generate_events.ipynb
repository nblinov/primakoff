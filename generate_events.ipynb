{
 "cells": [
  {
   "cell_type": "markdown",
   "id": "694ce252",
   "metadata": {},
   "source": [
    "Here we use ALP a secondary photon spectrum to produce an ALP event same via the Primakoff mechanism \n",
    "$$ \\gamma N \\to a N $$\n"
   ]
  },
  {
   "cell_type": "code",
   "execution_count": 1,
   "id": "576c8151",
   "metadata": {},
   "outputs": [],
   "source": [
    "import numpy as np\n",
    "import matplotlib.pyplot as plt\n",
    "%matplotlib inline\n",
    "\n",
    "import os\n",
    "import copy\n",
    "from multiprocessing import Pool\n",
    "from functools import partial\n",
    "import time\n",
    "from scipy import integrate\n",
    "\n",
    "from scipy.interpolate import interp2d, griddata, interp1d\n",
    "\n",
    "\n",
    "from mc import *\n",
    "from lhe_output import create_LHE_file\n",
    "\n",
    "def alp_width(ma, gag):\n",
    "    \"\"\"\n",
    "    ALP decay width; ma = ALP mass, gag = ALP coupling to photons, defined by the interaction-gag/4 ALP F Ftilde\n",
    "    \"\"\"\n",
    "    return ma**3 * gag**2 / (64. * np.pi)\n",
    "\n",
    "\n",
    "def get_t_integral(ma, mN, A, Z, Egamma):\n",
    "    s = s_term(mN,Egamma)\n",
    "    if s < (mN + ma)**2:\n",
    "        return np.zeros(2)\n",
    "    t1, t0 = t_bounds(ma, mN, Egamma)\n",
    "\n",
    "    # the integrand is peaked near t0\n",
    "    # choose a new lower bound on the integral that is not super far from the peak to avoid\n",
    "    # integration issues\n",
    "    # the factor 100000 is chosen by hand, and found to give a stable estimate without numerical errrors\n",
    "    t1_approx = max(t1,100000.*t0)\n",
    "    sigma, error = integrate.quad(t_distribution, t1_approx, t0, args = (ma, mN, A, Z, Egamma))\n",
    "    #print(sigma,\"\\t\",error)\n",
    "    \n",
    "    return np.array([sigma, error])\n",
    "\n",
    "\n",
    "def direct_production_cross_section(N_mcpN, photons, ma, mN, A, Z):\n",
    "    \"\"\"\n",
    "    Nmc is number of electron-target collisions simulated\n",
    "    photons is an array of photon 4 vectors from all of those collisisons\n",
    "    \n",
    "    returns cross-section in cm^2\n",
    "    \"\"\"\n",
    "    gag = 1. # 1/GeV\n",
    "    aEM = 1/137.\n",
    "    hbarc = 0.1973269804 *1e-13 #cm * GeV\n",
    "    \n",
    "    r  = 0.\n",
    "  \n",
    "    Egamma_list = photons[:,0]\n",
    "\n",
    "    # Use some fraction of available CPU cores\n",
    "    pool = Pool(int(os.cpu_count()/2))\n",
    "    # partial can be used to specify function arguments that are common for all instances\n",
    "    # if there are no such arguments you dont need to wrap in partial\n",
    "    sigma_list = pool.map(partial(get_t_integral, ma, mN, A, Z), Egamma_list)\n",
    "    pool.close()\n",
    "    sigma_list = np.array(sigma_list)\n",
    "\n",
    "        \n",
    "    r = np.sum(sigma_list[:,0])/N_mcpN\n",
    "    err = np.sum(sigma_list[:,1])/N_mcpN\n",
    "    \n",
    "    \n",
    "    # this factor was taken out of sigma_gamma N to defined t_distribution\n",
    "    sigma_coef = gag**2 * aEM * Z**2 / 8.\n",
    "    result = {}\n",
    "    result['sigma'] = sigma_coef * r * (hbarc)**2 #* n*T_g * sigma_pN\n",
    "    result['error'] = sigma_coef * err * (hbarc)**2 #* n*T_g * sigma_pN\n",
    "    return result"
   ]
  },
  {
   "cell_type": "code",
   "execution_count": 2,
   "id": "74a53286",
   "metadata": {},
   "outputs": [
    {
     "data": {
      "text/plain": [
       "57242"
      ]
     },
     "execution_count": 2,
     "metadata": {},
     "output_type": "execute_result"
    }
   ],
   "source": [
    "ldmx_photons = np.loadtxt('../data_from_sophie.csv',delimiter=',')[:,1:] / 1000. # convert MeV to GeV\n",
    "len(ldmx_photons)"
   ]
  },
  {
   "cell_type": "code",
   "execution_count": 3,
   "id": "7b6b1959",
   "metadata": {},
   "outputs": [
    {
     "data": {
      "text/plain": [
       "47754"
      ]
     },
     "execution_count": 3,
     "metadata": {},
     "output_type": "execute_result"
    }
   ],
   "source": [
    "ldmx_photons_8GeV = np.loadtxt('../data_from_sophie_8_GeV.csv',delimiter=',')[:,1:] / 1000. # convert MeV to GeV\n",
    "len(ldmx_photons_8GeV)"
   ]
  },
  {
   "cell_type": "code",
   "execution_count": 4,
   "id": "b41c2dc4",
   "metadata": {
    "scrolled": true
   },
   "outputs": [
    {
     "data": {
      "image/png": "[encoded data removed]",
      "text/plain": [
       "<Figure size 432x288 with 1 Axes>"
      ]
     },
     "metadata": {
      "needs_background": "light"
     },
     "output_type": "display_data"
    }
   ],
   "source": [
    "ebins = np.logspace(-3,np.log10(4),20)\n",
    "ebins = np.logspace(-3,np.log10(8),20)\n",
    "plt.hist(ldmx_photons[:,0],bins=ebins)\n",
    "\n",
    "plt.hist(ldmx_photons_8GeV[:,0],bins=ebins,alpha=0.4)\n",
    "plt.xscale('log')\n",
    "plt.yscale('log')"
   ]
  },
  {
   "cell_type": "code",
   "execution_count": 19,
   "id": "687cc716",
   "metadata": {},
   "outputs": [
    {
     "data": {
      "text/plain": [
       "(0.11970231648090562, 0.04359844201532856)"
      ]
     },
     "execution_count": 19,
     "metadata": {},
     "output_type": "execute_result"
    }
   ],
   "source": [
    "len(ldmx_photons[ldmx_photons[:,0] > 1e-1])/len(ldmx_photons), len(ldmx_photons_8GeV[ldmx_photons_8GeV[:,0] > 2e-1])/len(ldmx_photons_8GeV)"
   ]
  },
  {
   "cell_type": "code",
   "execution_count": 5,
   "id": "d3f0612f",
   "metadata": {},
   "outputs": [
    {
     "data": {
      "image/png": "[encoded data removed]",
      "text/plain": [
       "<Figure size 432x288 with 1 Axes>"
      ]
     },
     "metadata": {
      "needs_background": "light"
     },
     "output_type": "display_data"
    }
   ],
   "source": [
    "ebins = np.logspace(-3,np.log10(8),20)\n",
    "plt.hist(ldmx_photons_8GeV[:,0],bins=ebins)\n",
    "plt.xscale('log')\n",
    "plt.yscale('log')"
   ]
  },
  {
   "cell_type": "markdown",
   "id": "3a8689ba",
   "metadata": {},
   "source": [
    "# Producing the Sample"
   ]
  },
  {
   "cell_type": "code",
   "execution_count": 14,
   "id": "b366c996",
   "metadata": {},
   "outputs": [
    {
     "name": "stdout",
     "output_type": "stream",
     "text": [
      "This took me 0.39285615682601926 minutes to process 57242 events\n"
     ]
    }
   ],
   "source": [
    "ma_list = [0.01, 0.05, 0.1, 0.15, 0.2]\n",
    "#ma_list = [0.1]\n",
    "A = 183.84\n",
    "Z = 74 #Tungsten\n",
    "\n",
    "mN = 183.84 * 0.9314941 #For W, GeV\n",
    "\n",
    "tau = 1.\n",
    "\n",
    "N_mcpN = 10000 # actual number of pN collisions simulated\n",
    "N_photon_subset = 20000 # number of photons to use to speed up calculation of cross-section\n",
    "direct_events = []\n",
    "xsec_list = []\n",
    "for ma in ma_list:\n",
    "    out_dir_name = \"../primakoff_events_4_GeV/\"+\"m_\" + str(int(np.floor(ma*1000.)))\n",
    "    out_lhe_fname = \"unweighted_events.lhe\"\n",
    "    os.mkdir(out_dir_name)\n",
    "    result_dict = {}\n",
    "    result_dict['ma'] = ma\n",
    "    result_dict['tau'] = tau\n",
    "    result_dict['sigma'] = direct_production_cross_section(N_mcpN*len(ldmx_photons[:N_photon_subset])/len(ldmx_photons), ldmx_photons[:N_photon_subset], ma, mN, A, Z)\n",
    "    result_dict['events'] = generate_primakoff_events(ldmx_photons, ma, mN, A, Z,tau, small_t_cut_over_t0=1000, print_output = True)\n",
    "    direct_events.append(result_dict)\n",
    "    xsec_list.append([ma, result_dict['sigma']['sigma']])\n",
    "    \n",
    "    run_info_str = \"<runinfo>\" + \"\\n\" \\\n",
    "             + \"# Primakoff process: gamma N > a N\\n\" \\\n",
    "             + \"# ALP Mass = \" + str(ma) + \"\\n\" \\\n",
    "             + \"# ALP width (for gag = 1e-3/GeV) = \" + str(alp_width(ma, 1e-3)) + \"\\n\" \\\n",
    "             + \"# Nucleus Mass = \" + str(mN) + \"\\n\" \\\n",
    "             + \"# Nucleus A = \" + str(A) + \"\\n\" \\\n",
    "             + \"# Nucleus Z = \" + str(Z) + \"\\n\" \\\n",
    "             + \"# Number of Events: \" + str(len(result_dict['events'])) + \"\\n\" \\\n",
    "             + \"# Integrated weight (for gag = 1e-3/GeV) (pb) : \"+str(result_dict['sigma']['sigma']*1e36*1e-6) + \"\\n\" + \"</runinfo>\" + \"\\n\"\n",
    "    create_LHE_file(ma, mN, result_dict['events'], out_dir_name+\"/\"+out_lhe_fname, header_str = run_info_str)\n",
    "xsec_list = np.array(xsec_list)"
   ]
  },
  {
   "cell_type": "code",
   "execution_count": 17,
   "id": "f866877e",
   "metadata": {},
   "outputs": [
    {
     "name": "stdout",
     "output_type": "stream",
     "text": [
      "This took me 0.12853896220525104 minutes to process 47754 events\n"
     ]
    }
   ],
   "source": [
    "ma_list = [0.01, 0.05, 0.1, 0.15, 0.2, 0.3, 0.4, 0.5]\n",
    "#ma_list = [0.1]\n",
    "A = 183.84\n",
    "Z = 74 #Tungsten\n",
    "\n",
    "mN = 183.84 * 0.9314941 #For W, GeV\n",
    "\n",
    "tau = 1.\n",
    "\n",
    "N_mcpN = 10000 # actual number of pN collisions simulated\n",
    "N_photon_subset = len(ldmx_photons_8GeV) #20000 # number of photons to use to speed up calculation of cross-section\n",
    "direct_events = []\n",
    "xsec_list_8_GeV = []\n",
    "for ma in ma_list:\n",
    "    out_dir_name = \"../primakoff_events_8_GeV/\"+\"m_\" + str(int(np.floor(ma*1000.)))\n",
    "    out_lhe_fname = \"unweighted_events.lhe\"\n",
    "    os.mkdir(out_dir_name)\n",
    "    result_dict = {}\n",
    "    result_dict['ma'] = ma\n",
    "    result_dict['tau'] = tau\n",
    "    result_dict['sigma'] = direct_production_cross_section(N_mcpN*len(ldmx_photons_8GeV[:N_photon_subset])/len(ldmx_photons_8GeV), ldmx_photons_8GeV[:N_photon_subset], ma, mN, A, Z)\n",
    "    result_dict['events'] = generate_primakoff_events(ldmx_photons_8GeV, ma, mN, A, Z,tau, small_t_cut_over_t0=1000, print_output = True)\n",
    "    direct_events.append(result_dict)\n",
    "    xsec_list_8_GeV.append([ma, result_dict['sigma']['sigma']])\n",
    "    run_info_str = \"<runinfo>\" + \"\\n\" \\\n",
    "             + \"# Primakoff process: gamma N > a N\\n\" \\\n",
    "             + \"# ALP Mass = \" + str(ma) + \"\\n\" \\\n",
    "             + \"# ALP width (for gag = 1e-3/GeV) = \" + str(alp_width(ma, 1e-3)) + \"\\n\" \\\n",
    "             + \"# Nucleus Mass = \" + str(mN) + \"\\n\" \\\n",
    "             + \"# Nucleus A = \" + str(A) + \"\\n\" \\\n",
    "             + \"# Nucleus Z = \" + str(Z) + \"\\n\" \\\n",
    "             + \"# Number of Events: \" + str(len(result_dict['events'])) + \"\\n\" \\\n",
    "             + \"# Integrated weight (for gag = 1e-3/GeV) (pb) : \"+str(result_dict['sigma']['sigma']*1e36*1e-6) + \"\\n\" + \"</runinfo>\" + \"\\n\"\n",
    "    create_LHE_file(ma, mN, result_dict['events'], out_dir_name+\"/\"+out_lhe_fname, header_str = run_info_str)\n",
    "xsec_list_8_GeV = np.array(xsec_list_8_GeV)"
   ]
  },
  {
   "cell_type": "code",
   "execution_count": 18,
   "id": "aeed8f63",
   "metadata": {},
   "outputs": [
    {
     "data": {
      "image/png": "[encoded data removed]",
      "text/plain": [
       "<Figure size 432x288 with 1 Axes>"
      ]
     },
     "metadata": {
      "needs_background": "light"
     },
     "output_type": "display_data"
    }
   ],
   "source": [
    "plt.plot(xsec_list[:,0],xsec_list[:,1])\n",
    "plt.plot(xsec_list_8_GeV[:,0],xsec_list_8_GeV[:,1])\n",
    "plt.xscale('log')\n",
    "plt.yscale('log')"
   ]
  },
  {
   "cell_type": "code",
   "execution_count": 10,
   "id": "5b61935f",
   "metadata": {},
   "outputs": [
    {
     "data": {
      "text/plain": [
       "[{'sigma': 6.161302107236744e-27, 'error': 6.812231012958225e-36},\n",
       " {'sigma': 2.7787481241890276e-27, 'error': 2.4291711313227334e-36},\n",
       " {'sigma': 1.4762844474192996e-27, 'error': 1.7477543398314954e-36},\n",
       " {'sigma': 9.114600182337397e-28, 'error': 1.3499062875402418e-36},\n",
       " {'sigma': 6.022978717037333e-28, 'error': 1.1407185712550706e-36},\n",
       " {'sigma': 2.899795299893063e-28, 'error': 8.222252087728932e-37},\n",
       " {'sigma': 1.4857523836701053e-28, 'error': 7.048589453599702e-37},\n",
       " {'sigma': 7.851614955808807e-29, 'error': 5.90444981972894e-37}]"
      ]
     },
     "execution_count": 10,
     "metadata": {},
     "output_type": "execute_result"
    }
   ],
   "source": [
    "xsec_list"
   ]
  },
  {
   "cell_type": "code",
   "execution_count": 17,
   "id": "6c46061c",
   "metadata": {},
   "outputs": [
    {
     "data": {
      "text/plain": [
       "47754"
      ]
     },
     "execution_count": 17,
     "metadata": {},
     "output_type": "execute_result"
    }
   ],
   "source": [
    "N_photon_subset"
   ]
  },
  {
   "cell_type": "code",
   "execution_count": null,
   "id": "62f498fb",
   "metadata": {},
   "outputs": [],
   "source": []
  }
 ],
 "metadata": {
  "kernelspec": {
   "display_name": "Python 3 (ipykernel)",
   "language": "python",
   "name": "python3"
  },
  "language_info": {
   "codemirror_mode": {
    "name": "ipython",
    "version": 3
   },
   "file_extension": ".py",
   "mimetype": "text/x-python",
   "name": "python",
   "nbconvert_exporter": "python",
   "pygments_lexer": "ipython3",
   "version": "3.9.5"
  }
 },
 "nbformat": 4,
 "nbformat_minor": 5
}
